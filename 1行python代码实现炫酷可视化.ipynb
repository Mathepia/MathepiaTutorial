{
 "cells": [
  {
   "cell_type": "markdown",
   "metadata": {},
   "source": [
    "之前画图一直在用matlibplot、pyecharts，最近学习了一个新的可视化库--cufflinks，用了两天我已经深深爱上它了"
   ]
  },
  {
   "cell_type": "markdown",
   "metadata": {},
   "source": [
    "主要是因为它用法简单、图形漂亮、代码量少，用一两行代码，就能画出非常漂亮的图形"
   ]
  },
  {
   "cell_type": "markdown",
   "metadata": {},
   "source": [
    "下面我们一起来看看吧！"
   ]
  },
  {
   "cell_type": "markdown",
   "metadata": {},
   "source": [
    "### 1.用法简单"
   ]
  },
  {
   "cell_type": "code",
   "execution_count": 1,
   "outputs": [
    {
     "name": "stdout",
     "output_type": "stream",
     "text": [
      "1.0\n"
     ]
    }
   ],
   "source": [
    "import matplotlib.pyplot as plt\n",
    "import numpy as np\n",
    "测试=np.exp(0)\n",
    "print(测试)\n",
    "import pandas as"
   ],
   "metadata": {
    "collapsed": false,
    "pycharm": {
     "name": "#%%\n"
    }
   }
  },
  {
   "cell_type": "markdown",
   "metadata": {},
   "source": [
    "cufflinks库主要和dataFrame数据结合使用，绘图函数就是 dataFrame.iplot，记住这个就行了，但是 iplot 函数里的参数很多，一些参数说明如下："
   ]
  },
  {
   "cell_type": "markdown",
   "metadata": {},
   "source": [
    "kind：图的种类，如 scatter、pie、histogram 等\n",
    "\n",
    "mode：lines、markers、lines+markers，分别表示折线、点、折线和点\n",
    "\n",
    "colors：轨迹对应的颜色\n",
    "\n",
    "dash：轨迹对应的虚实线，solid、dash、dashdot 三种\n",
    "\n",
    "width：轨迹的粗细\n",
    "\n",
    "xTitle：横坐标名称\n",
    "\n",
    "yTitle：纵坐标的名称\n",
    "\n",
    "title：图表的标题"
   ]
  },
  {
   "cell_type": "markdown",
   "metadata": {},
   "source": [
    "如下图，df为随机生成的dataFrame数据，kind='bar'表示柱状图，title代表标题，xTitle命名X轴，yTitle命名Y轴："
   ]
  },
  {
   "cell_type": "code",
   "execution_count": 1,
   "metadata": {},
   "outputs": [
    {
     "ename": "PlotlyRequestError",
     "evalue": "Authentication credentials were not provided.",
     "output_type": "error",
     "traceback": [
      "\u001B[1;31m---------------------------------------------------------------------------\u001B[0m",
      "\u001B[1;31mPlotlyRequestError\u001B[0m                        Traceback (most recent call last)",
      "\u001B[1;32m<ipython-input-1-62cde17aadcd>\u001B[0m in \u001B[0;36m<module>\u001B[1;34m\u001B[0m\n\u001B[0;32m      3\u001B[0m \u001B[1;32mimport\u001B[0m \u001B[0mcufflinks\u001B[0m \u001B[1;32mas\u001B[0m \u001B[0mcf\u001B[0m\u001B[1;33m\u001B[0m\u001B[1;33m\u001B[0m\u001B[0m\n\u001B[0;32m      4\u001B[0m \u001B[0mdf\u001B[0m\u001B[1;33m=\u001B[0m\u001B[0mpd\u001B[0m\u001B[1;33m.\u001B[0m\u001B[0mDataFrame\u001B[0m\u001B[1;33m(\u001B[0m\u001B[0mnp\u001B[0m\u001B[1;33m.\u001B[0m\u001B[0mrandom\u001B[0m\u001B[1;33m.\u001B[0m\u001B[0mrand\u001B[0m\u001B[1;33m(\u001B[0m\u001B[1;36m12\u001B[0m\u001B[1;33m,\u001B[0m \u001B[1;36m4\u001B[0m\u001B[1;33m)\u001B[0m\u001B[1;33m,\u001B[0m \u001B[0mcolumns\u001B[0m\u001B[1;33m=\u001B[0m\u001B[1;33m[\u001B[0m\u001B[1;34m'a'\u001B[0m\u001B[1;33m,\u001B[0m \u001B[1;34m'b'\u001B[0m\u001B[1;33m,\u001B[0m \u001B[1;34m'c'\u001B[0m\u001B[1;33m,\u001B[0m \u001B[1;34m'd'\u001B[0m\u001B[1;33m]\u001B[0m\u001B[1;33m)\u001B[0m\u001B[1;33m\u001B[0m\u001B[1;33m\u001B[0m\u001B[0m\n\u001B[1;32m----> 5\u001B[1;33m \u001B[0mdf\u001B[0m\u001B[1;33m.\u001B[0m\u001B[0miplot\u001B[0m\u001B[1;33m(\u001B[0m\u001B[0mkind\u001B[0m \u001B[1;33m=\u001B[0m\u001B[1;34m'bar'\u001B[0m\u001B[1;33m,\u001B[0m\u001B[0mtitle\u001B[0m\u001B[1;33m=\u001B[0m\u001B[1;34m'示例'\u001B[0m\u001B[1;33m,\u001B[0m \u001B[0mxTitle\u001B[0m \u001B[1;33m=\u001B[0m \u001B[1;34m'X轴'\u001B[0m\u001B[1;33m,\u001B[0m \u001B[0myTitle\u001B[0m \u001B[1;33m=\u001B[0m\u001B[1;34m'Y轴'\u001B[0m\u001B[1;33m)\u001B[0m\u001B[1;33m\u001B[0m\u001B[1;33m\u001B[0m\u001B[0m\n\u001B[0m",
      "\u001B[1;32mF:\\Anaconda\\lib\\site-packages\\cufflinks\\plotlytools.py\u001B[0m in \u001B[0;36m_iplot\u001B[1;34m(self, kind, data, layout, filename, sharing, title, xTitle, yTitle, zTitle, theme, colors, colorscale, fill, width, dash, mode, interpolation, symbol, size, barmode, sortbars, bargap, bargroupgap, bins, histnorm, histfunc, orientation, boxpoints, annotations, keys, bestfit, bestfit_colors, mean, mean_colors, categories, x, y, z, text, gridcolor, zerolinecolor, margin, labels, values, secondary_y, secondary_y_title, subplots, shape, error_x, error_y, error_type, locations, lon, lat, asFrame, asDates, asFigure, asImage, dimensions, asPlot, asUrl, online, **kwargs)\u001B[0m\n\u001B[0;32m   1216\u001B[0m \t\treturn iplot(figure,validate=validate,sharing=sharing,filename=filename,\n\u001B[0;32m   1217\u001B[0m                          \u001B[0monline\u001B[0m\u001B[1;33m=\u001B[0m\u001B[0monline\u001B[0m\u001B[1;33m,\u001B[0m\u001B[0masImage\u001B[0m\u001B[1;33m=\u001B[0m\u001B[0masImage\u001B[0m\u001B[1;33m,\u001B[0m\u001B[0masUrl\u001B[0m\u001B[1;33m=\u001B[0m\u001B[0masUrl\u001B[0m\u001B[1;33m,\u001B[0m\u001B[0masPlot\u001B[0m\u001B[1;33m=\u001B[0m\u001B[0masPlot\u001B[0m\u001B[1;33m,\u001B[0m\u001B[1;33m\u001B[0m\u001B[1;33m\u001B[0m\u001B[0m\n\u001B[1;32m-> 1218\u001B[1;33m \t\t\t dimensions=dimensions,display_image=kwargs.get('display_image',True))\n\u001B[0m\u001B[0;32m   1219\u001B[0m \u001B[1;33m\u001B[0m\u001B[0m\n\u001B[0;32m   1220\u001B[0m \u001B[1;33m\u001B[0m\u001B[0m\n",
      "\u001B[1;32mF:\\Anaconda\\lib\\site-packages\\cufflinks\\plotlytools.py\u001B[0m in \u001B[0;36miplot\u001B[1;34m(figure, validate, sharing, filename, online, asImage, asUrl, asPlot, dimensions, display_image, **kwargs)\u001B[0m\n\u001B[0;32m   1469\u001B[0m         \u001B[1;32melse\u001B[0m\u001B[1;33m:\u001B[0m\u001B[1;33m\u001B[0m\u001B[1;33m\u001B[0m\u001B[0m\n\u001B[0;32m   1470\u001B[0m \t\treturn py.iplot(figure,validate=validate,sharing=sharing,\n\u001B[1;32m-> 1471\u001B[1;33m \t\t\t\t\t\tfilename=filename)\n\u001B[0m\u001B[0;32m   1472\u001B[0m \u001B[1;33m\u001B[0m\u001B[0m\n\u001B[0;32m   1473\u001B[0m \u001B[1;33m\u001B[0m\u001B[0m\n",
      "\u001B[1;32mF:\\Anaconda\\lib\\site-packages\\chart_studio\\plotly\\plotly.py\u001B[0m in \u001B[0;36miplot\u001B[1;34m(figure_or_data, **plot_options)\u001B[0m\n\u001B[0;32m    133\u001B[0m     \u001B[1;32mif\u001B[0m \u001B[1;34m\"auto_open\"\u001B[0m \u001B[1;32mnot\u001B[0m \u001B[1;32min\u001B[0m \u001B[0mplot_options\u001B[0m\u001B[1;33m:\u001B[0m\u001B[1;33m\u001B[0m\u001B[1;33m\u001B[0m\u001B[0m\n\u001B[0;32m    134\u001B[0m         \u001B[0mplot_options\u001B[0m\u001B[1;33m[\u001B[0m\u001B[1;34m\"auto_open\"\u001B[0m\u001B[1;33m]\u001B[0m \u001B[1;33m=\u001B[0m \u001B[1;32mFalse\u001B[0m\u001B[1;33m\u001B[0m\u001B[1;33m\u001B[0m\u001B[0m\n\u001B[1;32m--> 135\u001B[1;33m     \u001B[0murl\u001B[0m \u001B[1;33m=\u001B[0m \u001B[0mplot\u001B[0m\u001B[1;33m(\u001B[0m\u001B[0mfigure_or_data\u001B[0m\u001B[1;33m,\u001B[0m \u001B[1;33m**\u001B[0m\u001B[0mplot_options\u001B[0m\u001B[1;33m)\u001B[0m\u001B[1;33m\u001B[0m\u001B[1;33m\u001B[0m\u001B[0m\n\u001B[0m\u001B[0;32m    136\u001B[0m \u001B[1;33m\u001B[0m\u001B[0m\n\u001B[0;32m    137\u001B[0m     \u001B[1;32mif\u001B[0m \u001B[0misinstance\u001B[0m\u001B[1;33m(\u001B[0m\u001B[0mfigure_or_data\u001B[0m\u001B[1;33m,\u001B[0m \u001B[0mdict\u001B[0m\u001B[1;33m)\u001B[0m\u001B[1;33m:\u001B[0m\u001B[1;33m\u001B[0m\u001B[1;33m\u001B[0m\u001B[0m\n",
      "\u001B[1;32mF:\\Anaconda\\lib\\site-packages\\chart_studio\\plotly\\plotly.py\u001B[0m in \u001B[0;36mplot\u001B[1;34m(figure_or_data, validate, **plot_options)\u001B[0m\n\u001B[0;32m    278\u001B[0m             \u001B[0mfilename\u001B[0m\u001B[1;33m=\u001B[0m\u001B[0mgrid_filename\u001B[0m\u001B[1;33m,\u001B[0m\u001B[1;33m\u001B[0m\u001B[1;33m\u001B[0m\u001B[0m\n\u001B[0;32m    279\u001B[0m             \u001B[0mworld_readable\u001B[0m\u001B[1;33m=\u001B[0m\u001B[0mpayload\u001B[0m\u001B[1;33m[\u001B[0m\u001B[1;34m\"world_readable\"\u001B[0m\u001B[1;33m]\u001B[0m\u001B[1;33m,\u001B[0m\u001B[1;33m\u001B[0m\u001B[1;33m\u001B[0m\u001B[0m\n\u001B[1;32m--> 280\u001B[1;33m             \u001B[0mauto_open\u001B[0m\u001B[1;33m=\u001B[0m\u001B[1;32mFalse\u001B[0m\u001B[1;33m,\u001B[0m\u001B[1;33m\u001B[0m\u001B[1;33m\u001B[0m\u001B[0m\n\u001B[0m\u001B[0;32m    281\u001B[0m         )\n\u001B[0;32m    282\u001B[0m \u001B[1;33m\u001B[0m\u001B[0m\n",
      "\u001B[1;32mF:\\Anaconda\\lib\\site-packages\\chart_studio\\plotly\\plotly.py\u001B[0m in \u001B[0;36mupload\u001B[1;34m(cls, grid, filename, world_readable, auto_open, meta)\u001B[0m\n\u001B[0;32m   1085\u001B[0m                 \u001B[0mpayload\u001B[0m\u001B[1;33m[\u001B[0m\u001B[1;34m\"parent_path\"\u001B[0m\u001B[1;33m]\u001B[0m \u001B[1;33m=\u001B[0m \u001B[0mparent_path\u001B[0m\u001B[1;33m\u001B[0m\u001B[1;33m\u001B[0m\u001B[0m\n\u001B[0;32m   1086\u001B[0m \u001B[1;33m\u001B[0m\u001B[0m\n\u001B[1;32m-> 1087\u001B[1;33m         \u001B[0mfile_info\u001B[0m \u001B[1;33m=\u001B[0m \u001B[0m_create_or_overwrite_grid\u001B[0m\u001B[1;33m(\u001B[0m\u001B[0mpayload\u001B[0m\u001B[1;33m)\u001B[0m\u001B[1;33m\u001B[0m\u001B[1;33m\u001B[0m\u001B[0m\n\u001B[0m\u001B[0;32m   1088\u001B[0m \u001B[1;33m\u001B[0m\u001B[0m\n\u001B[0;32m   1089\u001B[0m         \u001B[0mcols\u001B[0m \u001B[1;33m=\u001B[0m \u001B[0mfile_info\u001B[0m\u001B[1;33m[\u001B[0m\u001B[1;34m\"cols\"\u001B[0m\u001B[1;33m]\u001B[0m\u001B[1;33m\u001B[0m\u001B[1;33m\u001B[0m\u001B[0m\n",
      "\u001B[1;32mF:\\Anaconda\\lib\\site-packages\\chart_studio\\plotly\\plotly.py\u001B[0m in \u001B[0;36m_create_or_overwrite_grid\u001B[1;34m(data, max_retries)\u001B[0m\n\u001B[0;32m   1548\u001B[0m     \u001B[1;31m# Create file\u001B[0m\u001B[1;33m\u001B[0m\u001B[1;33m\u001B[0m\u001B[1;33m\u001B[0m\u001B[0m\n\u001B[0;32m   1549\u001B[0m     \u001B[1;32mtry\u001B[0m\u001B[1;33m:\u001B[0m\u001B[1;33m\u001B[0m\u001B[1;33m\u001B[0m\u001B[0m\n\u001B[1;32m-> 1550\u001B[1;33m         \u001B[0mres\u001B[0m \u001B[1;33m=\u001B[0m \u001B[0mapi_module\u001B[0m\u001B[1;33m.\u001B[0m\u001B[0mcreate\u001B[0m\u001B[1;33m(\u001B[0m\u001B[0mdata\u001B[0m\u001B[1;33m)\u001B[0m\u001B[1;33m\u001B[0m\u001B[1;33m\u001B[0m\u001B[0m\n\u001B[0m\u001B[0;32m   1551\u001B[0m     \u001B[1;32mexcept\u001B[0m \u001B[0mexceptions\u001B[0m\u001B[1;33m.\u001B[0m\u001B[0mPlotlyRequestError\u001B[0m \u001B[1;32mas\u001B[0m \u001B[0me\u001B[0m\u001B[1;33m:\u001B[0m\u001B[1;33m\u001B[0m\u001B[1;33m\u001B[0m\u001B[0m\n\u001B[0;32m   1552\u001B[0m         \u001B[1;32mif\u001B[0m \u001B[0mmax_retries\u001B[0m \u001B[1;33m>\u001B[0m \u001B[1;36m0\u001B[0m \u001B[1;32mand\u001B[0m \u001B[1;34m\"already exists\"\u001B[0m \u001B[1;32min\u001B[0m \u001B[0me\u001B[0m\u001B[1;33m.\u001B[0m\u001B[0mmessage\u001B[0m\u001B[1;33m:\u001B[0m\u001B[1;33m\u001B[0m\u001B[1;33m\u001B[0m\u001B[0m\n",
      "\u001B[1;32mF:\\Anaconda\\lib\\site-packages\\chart_studio\\api\\v2\\grids.py\u001B[0m in \u001B[0;36mcreate\u001B[1;34m(body)\u001B[0m\n\u001B[0;32m     16\u001B[0m     \"\"\"\n\u001B[0;32m     17\u001B[0m     \u001B[0murl\u001B[0m \u001B[1;33m=\u001B[0m \u001B[0mbuild_url\u001B[0m\u001B[1;33m(\u001B[0m\u001B[0mRESOURCE\u001B[0m\u001B[1;33m)\u001B[0m\u001B[1;33m\u001B[0m\u001B[1;33m\u001B[0m\u001B[0m\n\u001B[1;32m---> 18\u001B[1;33m     \u001B[1;32mreturn\u001B[0m \u001B[0mrequest\u001B[0m\u001B[1;33m(\u001B[0m\u001B[1;34m\"post\"\u001B[0m\u001B[1;33m,\u001B[0m \u001B[0murl\u001B[0m\u001B[1;33m,\u001B[0m \u001B[0mjson\u001B[0m\u001B[1;33m=\u001B[0m\u001B[0mbody\u001B[0m\u001B[1;33m)\u001B[0m\u001B[1;33m\u001B[0m\u001B[1;33m\u001B[0m\u001B[0m\n\u001B[0m\u001B[0;32m     19\u001B[0m \u001B[1;33m\u001B[0m\u001B[0m\n\u001B[0;32m     20\u001B[0m \u001B[1;33m\u001B[0m\u001B[0m\n",
      "\u001B[1;32mF:\\Anaconda\\lib\\site-packages\\retrying.py\u001B[0m in \u001B[0;36mwrapped_f\u001B[1;34m(*args, **kw)\u001B[0m\n\u001B[0;32m     47\u001B[0m             \u001B[1;33m@\u001B[0m\u001B[0msix\u001B[0m\u001B[1;33m.\u001B[0m\u001B[0mwraps\u001B[0m\u001B[1;33m(\u001B[0m\u001B[0mf\u001B[0m\u001B[1;33m)\u001B[0m\u001B[1;33m\u001B[0m\u001B[1;33m\u001B[0m\u001B[0m\n\u001B[0;32m     48\u001B[0m             \u001B[1;32mdef\u001B[0m \u001B[0mwrapped_f\u001B[0m\u001B[1;33m(\u001B[0m\u001B[1;33m*\u001B[0m\u001B[0margs\u001B[0m\u001B[1;33m,\u001B[0m \u001B[1;33m**\u001B[0m\u001B[0mkw\u001B[0m\u001B[1;33m)\u001B[0m\u001B[1;33m:\u001B[0m\u001B[1;33m\u001B[0m\u001B[1;33m\u001B[0m\u001B[0m\n\u001B[1;32m---> 49\u001B[1;33m                 \u001B[1;32mreturn\u001B[0m \u001B[0mRetrying\u001B[0m\u001B[1;33m(\u001B[0m\u001B[1;33m*\u001B[0m\u001B[0mdargs\u001B[0m\u001B[1;33m,\u001B[0m \u001B[1;33m**\u001B[0m\u001B[0mdkw\u001B[0m\u001B[1;33m)\u001B[0m\u001B[1;33m.\u001B[0m\u001B[0mcall\u001B[0m\u001B[1;33m(\u001B[0m\u001B[0mf\u001B[0m\u001B[1;33m,\u001B[0m \u001B[1;33m*\u001B[0m\u001B[0margs\u001B[0m\u001B[1;33m,\u001B[0m \u001B[1;33m**\u001B[0m\u001B[0mkw\u001B[0m\u001B[1;33m)\u001B[0m\u001B[1;33m\u001B[0m\u001B[1;33m\u001B[0m\u001B[0m\n\u001B[0m\u001B[0;32m     50\u001B[0m \u001B[1;33m\u001B[0m\u001B[0m\n\u001B[0;32m     51\u001B[0m             \u001B[1;32mreturn\u001B[0m \u001B[0mwrapped_f\u001B[0m\u001B[1;33m\u001B[0m\u001B[1;33m\u001B[0m\u001B[0m\n",
      "\u001B[1;32mF:\\Anaconda\\lib\\site-packages\\retrying.py\u001B[0m in \u001B[0;36mcall\u001B[1;34m(self, fn, *args, **kwargs)\u001B[0m\n\u001B[0;32m    204\u001B[0m \u001B[1;33m\u001B[0m\u001B[0m\n\u001B[0;32m    205\u001B[0m             \u001B[1;32mif\u001B[0m \u001B[1;32mnot\u001B[0m \u001B[0mself\u001B[0m\u001B[1;33m.\u001B[0m\u001B[0mshould_reject\u001B[0m\u001B[1;33m(\u001B[0m\u001B[0mattempt\u001B[0m\u001B[1;33m)\u001B[0m\u001B[1;33m:\u001B[0m\u001B[1;33m\u001B[0m\u001B[1;33m\u001B[0m\u001B[0m\n\u001B[1;32m--> 206\u001B[1;33m                 \u001B[1;32mreturn\u001B[0m \u001B[0mattempt\u001B[0m\u001B[1;33m.\u001B[0m\u001B[0mget\u001B[0m\u001B[1;33m(\u001B[0m\u001B[0mself\u001B[0m\u001B[1;33m.\u001B[0m\u001B[0m_wrap_exception\u001B[0m\u001B[1;33m)\u001B[0m\u001B[1;33m\u001B[0m\u001B[1;33m\u001B[0m\u001B[0m\n\u001B[0m\u001B[0;32m    207\u001B[0m \u001B[1;33m\u001B[0m\u001B[0m\n\u001B[0;32m    208\u001B[0m             \u001B[0mdelay_since_first_attempt_ms\u001B[0m \u001B[1;33m=\u001B[0m \u001B[0mint\u001B[0m\u001B[1;33m(\u001B[0m\u001B[0mround\u001B[0m\u001B[1;33m(\u001B[0m\u001B[0mtime\u001B[0m\u001B[1;33m.\u001B[0m\u001B[0mtime\u001B[0m\u001B[1;33m(\u001B[0m\u001B[1;33m)\u001B[0m \u001B[1;33m*\u001B[0m \u001B[1;36m1000\u001B[0m\u001B[1;33m)\u001B[0m\u001B[1;33m)\u001B[0m \u001B[1;33m-\u001B[0m \u001B[0mstart_time\u001B[0m\u001B[1;33m\u001B[0m\u001B[1;33m\u001B[0m\u001B[0m\n",
      "\u001B[1;32mF:\\Anaconda\\lib\\site-packages\\retrying.py\u001B[0m in \u001B[0;36mget\u001B[1;34m(self, wrap_exception)\u001B[0m\n\u001B[0;32m    245\u001B[0m                 \u001B[1;32mraise\u001B[0m \u001B[0mRetryError\u001B[0m\u001B[1;33m(\u001B[0m\u001B[0mself\u001B[0m\u001B[1;33m)\u001B[0m\u001B[1;33m\u001B[0m\u001B[1;33m\u001B[0m\u001B[0m\n\u001B[0;32m    246\u001B[0m             \u001B[1;32melse\u001B[0m\u001B[1;33m:\u001B[0m\u001B[1;33m\u001B[0m\u001B[1;33m\u001B[0m\u001B[0m\n\u001B[1;32m--> 247\u001B[1;33m                 \u001B[0msix\u001B[0m\u001B[1;33m.\u001B[0m\u001B[0mreraise\u001B[0m\u001B[1;33m(\u001B[0m\u001B[0mself\u001B[0m\u001B[1;33m.\u001B[0m\u001B[0mvalue\u001B[0m\u001B[1;33m[\u001B[0m\u001B[1;36m0\u001B[0m\u001B[1;33m]\u001B[0m\u001B[1;33m,\u001B[0m \u001B[0mself\u001B[0m\u001B[1;33m.\u001B[0m\u001B[0mvalue\u001B[0m\u001B[1;33m[\u001B[0m\u001B[1;36m1\u001B[0m\u001B[1;33m]\u001B[0m\u001B[1;33m,\u001B[0m \u001B[0mself\u001B[0m\u001B[1;33m.\u001B[0m\u001B[0mvalue\u001B[0m\u001B[1;33m[\u001B[0m\u001B[1;36m2\u001B[0m\u001B[1;33m]\u001B[0m\u001B[1;33m)\u001B[0m\u001B[1;33m\u001B[0m\u001B[1;33m\u001B[0m\u001B[0m\n\u001B[0m\u001B[0;32m    248\u001B[0m         \u001B[1;32melse\u001B[0m\u001B[1;33m:\u001B[0m\u001B[1;33m\u001B[0m\u001B[1;33m\u001B[0m\u001B[0m\n\u001B[0;32m    249\u001B[0m             \u001B[1;32mreturn\u001B[0m \u001B[0mself\u001B[0m\u001B[1;33m.\u001B[0m\u001B[0mvalue\u001B[0m\u001B[1;33m\u001B[0m\u001B[1;33m\u001B[0m\u001B[0m\n",
      "\u001B[1;32mF:\\Anaconda\\lib\\site-packages\\six.py\u001B[0m in \u001B[0;36mreraise\u001B[1;34m(tp, value, tb)\u001B[0m\n\u001B[0;32m    701\u001B[0m             \u001B[1;32mif\u001B[0m \u001B[0mvalue\u001B[0m\u001B[1;33m.\u001B[0m\u001B[0m__traceback__\u001B[0m \u001B[1;32mis\u001B[0m \u001B[1;32mnot\u001B[0m \u001B[0mtb\u001B[0m\u001B[1;33m:\u001B[0m\u001B[1;33m\u001B[0m\u001B[1;33m\u001B[0m\u001B[0m\n\u001B[0;32m    702\u001B[0m                 \u001B[1;32mraise\u001B[0m \u001B[0mvalue\u001B[0m\u001B[1;33m.\u001B[0m\u001B[0mwith_traceback\u001B[0m\u001B[1;33m(\u001B[0m\u001B[0mtb\u001B[0m\u001B[1;33m)\u001B[0m\u001B[1;33m\u001B[0m\u001B[1;33m\u001B[0m\u001B[0m\n\u001B[1;32m--> 703\u001B[1;33m             \u001B[1;32mraise\u001B[0m \u001B[0mvalue\u001B[0m\u001B[1;33m\u001B[0m\u001B[1;33m\u001B[0m\u001B[0m\n\u001B[0m\u001B[0;32m    704\u001B[0m         \u001B[1;32mfinally\u001B[0m\u001B[1;33m:\u001B[0m\u001B[1;33m\u001B[0m\u001B[1;33m\u001B[0m\u001B[0m\n\u001B[0;32m    705\u001B[0m             \u001B[0mvalue\u001B[0m \u001B[1;33m=\u001B[0m \u001B[1;32mNone\u001B[0m\u001B[1;33m\u001B[0m\u001B[1;33m\u001B[0m\u001B[0m\n",
      "\u001B[1;32mF:\\Anaconda\\lib\\site-packages\\retrying.py\u001B[0m in \u001B[0;36mcall\u001B[1;34m(self, fn, *args, **kwargs)\u001B[0m\n\u001B[0;32m    198\u001B[0m         \u001B[1;32mwhile\u001B[0m \u001B[1;32mTrue\u001B[0m\u001B[1;33m:\u001B[0m\u001B[1;33m\u001B[0m\u001B[1;33m\u001B[0m\u001B[0m\n\u001B[0;32m    199\u001B[0m             \u001B[1;32mtry\u001B[0m\u001B[1;33m:\u001B[0m\u001B[1;33m\u001B[0m\u001B[1;33m\u001B[0m\u001B[0m\n\u001B[1;32m--> 200\u001B[1;33m                 \u001B[0mattempt\u001B[0m \u001B[1;33m=\u001B[0m \u001B[0mAttempt\u001B[0m\u001B[1;33m(\u001B[0m\u001B[0mfn\u001B[0m\u001B[1;33m(\u001B[0m\u001B[1;33m*\u001B[0m\u001B[0margs\u001B[0m\u001B[1;33m,\u001B[0m \u001B[1;33m**\u001B[0m\u001B[0mkwargs\u001B[0m\u001B[1;33m)\u001B[0m\u001B[1;33m,\u001B[0m \u001B[0mattempt_number\u001B[0m\u001B[1;33m,\u001B[0m \u001B[1;32mFalse\u001B[0m\u001B[1;33m)\u001B[0m\u001B[1;33m\u001B[0m\u001B[1;33m\u001B[0m\u001B[0m\n\u001B[0m\u001B[0;32m    201\u001B[0m             \u001B[1;32mexcept\u001B[0m\u001B[1;33m:\u001B[0m\u001B[1;33m\u001B[0m\u001B[1;33m\u001B[0m\u001B[0m\n\u001B[0;32m    202\u001B[0m                 \u001B[0mtb\u001B[0m \u001B[1;33m=\u001B[0m \u001B[0msys\u001B[0m\u001B[1;33m.\u001B[0m\u001B[0mexc_info\u001B[0m\u001B[1;33m(\u001B[0m\u001B[1;33m)\u001B[0m\u001B[1;33m\u001B[0m\u001B[1;33m\u001B[0m\u001B[0m\n",
      "\u001B[1;32mF:\\Anaconda\\lib\\site-packages\\chart_studio\\api\\v2\\utils.py\u001B[0m in \u001B[0;36mrequest\u001B[1;34m(method, url, **kwargs)\u001B[0m\n\u001B[0;32m    178\u001B[0m         \u001B[0mcontent\u001B[0m \u001B[1;33m=\u001B[0m \u001B[0mresponse\u001B[0m\u001B[1;33m.\u001B[0m\u001B[0mcontent\u001B[0m \u001B[1;32mif\u001B[0m \u001B[0mresponse\u001B[0m \u001B[1;32melse\u001B[0m \u001B[1;34m\"No content\"\u001B[0m\u001B[1;33m\u001B[0m\u001B[1;33m\u001B[0m\u001B[0m\n\u001B[0;32m    179\u001B[0m         \u001B[1;32mraise\u001B[0m \u001B[0mexceptions\u001B[0m\u001B[1;33m.\u001B[0m\u001B[0mPlotlyRequestError\u001B[0m\u001B[1;33m(\u001B[0m\u001B[0mmessage\u001B[0m\u001B[1;33m,\u001B[0m \u001B[0mstatus_code\u001B[0m\u001B[1;33m,\u001B[0m \u001B[0mcontent\u001B[0m\u001B[1;33m)\u001B[0m\u001B[1;33m\u001B[0m\u001B[1;33m\u001B[0m\u001B[0m\n\u001B[1;32m--> 180\u001B[1;33m     \u001B[0mvalidate_response\u001B[0m\u001B[1;33m(\u001B[0m\u001B[0mresponse\u001B[0m\u001B[1;33m)\u001B[0m\u001B[1;33m\u001B[0m\u001B[1;33m\u001B[0m\u001B[0m\n\u001B[0m\u001B[0;32m    181\u001B[0m     \u001B[1;32mreturn\u001B[0m \u001B[0mresponse\u001B[0m\u001B[1;33m\u001B[0m\u001B[1;33m\u001B[0m\u001B[0m\n",
      "\u001B[1;32mF:\\Anaconda\\lib\\site-packages\\chart_studio\\api\\v2\\utils.py\u001B[0m in \u001B[0;36mvalidate_response\u001B[1;34m(response)\u001B[0m\n\u001B[0;32m     80\u001B[0m         \u001B[0mmessage\u001B[0m \u001B[1;33m=\u001B[0m \u001B[0mcontent\u001B[0m \u001B[1;32mif\u001B[0m \u001B[0mcontent\u001B[0m \u001B[1;32melse\u001B[0m \u001B[1;34m\"No Content\"\u001B[0m\u001B[1;33m\u001B[0m\u001B[1;33m\u001B[0m\u001B[0m\n\u001B[0;32m     81\u001B[0m \u001B[1;33m\u001B[0m\u001B[0m\n\u001B[1;32m---> 82\u001B[1;33m     \u001B[1;32mraise\u001B[0m \u001B[0mexceptions\u001B[0m\u001B[1;33m.\u001B[0m\u001B[0mPlotlyRequestError\u001B[0m\u001B[1;33m(\u001B[0m\u001B[0mmessage\u001B[0m\u001B[1;33m,\u001B[0m \u001B[0mstatus_code\u001B[0m\u001B[1;33m,\u001B[0m \u001B[0mcontent\u001B[0m\u001B[1;33m)\u001B[0m\u001B[1;33m\u001B[0m\u001B[1;33m\u001B[0m\u001B[0m\n\u001B[0m\u001B[0;32m     83\u001B[0m \u001B[1;33m\u001B[0m\u001B[0m\n\u001B[0;32m     84\u001B[0m \u001B[1;33m\u001B[0m\u001B[0m\n",
      "\u001B[1;31mPlotlyRequestError\u001B[0m: Authentication credentials were not provided."
     ]
    }
   ],
   "source": [
    "import pandas as pd\n",
    "import numpy as np\n",
    "import cufflinks as cf\n",
    "df=pd.DataFrame(np.random.rand(12, 4), columns=['a', 'b', 'c', 'd'])\n",
    "df.iplot(kind ='bar',title='示例', xTitle = 'X轴', yTitle ='Y轴')"
   ]
  },
  {
   "cell_type": "markdown",
   "metadata": {},
   "source": [
    "### 2.少量代码就能画出非常漂亮的图形"
   ]
  },
  {
   "cell_type": "markdown",
   "metadata": {},
   "source": [
    "cufflinks为我们提供了丰富的主题样式，支持包括polar、pearl、henanigans、solar、ggplot、space和white等7种主题。"
   ]
  },
  {
   "cell_type": "markdown",
   "metadata": {},
   "source": [
    "#### 折线图"
   ]
  },
  {
   "cell_type": "code",
   "execution_count": null,
   "metadata": {},
   "outputs": [],
   "source": [
    "cf.datagen.lines(4,10).iplot(mode='lines+markers',theme='solar')"
   ]
  },
  {
   "cell_type": "markdown",
   "metadata": {},
   "source": [
    "cufflinks使用datagen生成随机数，figure定义为lines形式，cf.datagen.lines(2,10)的具体形式如下："
   ]
  },
  {
   "cell_type": "code",
   "execution_count": 10,
   "metadata": {},
   "outputs": [
    {
     "data": {
      "text/html": [
       "<div>\n",
       "<style scoped>\n",
       "    .dataframe tbody tr th:only-of-type {\n",
       "        vertical-align: middle;\n",
       "    }\n",
       "\n",
       "    .dataframe tbody tr th {\n",
       "        vertical-align: top;\n",
       "    }\n",
       "\n",
       "    .dataframe thead th {\n",
       "        text-align: right;\n",
       "    }\n",
       "</style>\n",
       "<table border=\"1\" class=\"dataframe\">\n",
       "  <thead>\n",
       "    <tr style=\"text-align: right;\">\n",
       "      <th></th>\n",
       "      <th>WCB.EH</th>\n",
       "      <th>OAA.CQ</th>\n",
       "    </tr>\n",
       "  </thead>\n",
       "  <tbody>\n",
       "    <tr>\n",
       "      <th>2015-01-01</th>\n",
       "      <td>-0.052580</td>\n",
       "      <td>-0.351618</td>\n",
       "    </tr>\n",
       "    <tr>\n",
       "      <th>2015-01-02</th>\n",
       "      <td>1.056254</td>\n",
       "      <td>-1.476417</td>\n",
       "    </tr>\n",
       "    <tr>\n",
       "      <th>2015-01-03</th>\n",
       "      <td>0.078017</td>\n",
       "      <td>1.129168</td>\n",
       "    </tr>\n",
       "    <tr>\n",
       "      <th>2015-01-04</th>\n",
       "      <td>0.282141</td>\n",
       "      <td>0.908655</td>\n",
       "    </tr>\n",
       "    <tr>\n",
       "      <th>2015-01-05</th>\n",
       "      <td>0.960537</td>\n",
       "      <td>-0.223996</td>\n",
       "    </tr>\n",
       "    <tr>\n",
       "      <th>2015-01-06</th>\n",
       "      <td>1.420355</td>\n",
       "      <td>0.212851</td>\n",
       "    </tr>\n",
       "    <tr>\n",
       "      <th>2015-01-07</th>\n",
       "      <td>2.266144</td>\n",
       "      <td>0.358502</td>\n",
       "    </tr>\n",
       "    <tr>\n",
       "      <th>2015-01-08</th>\n",
       "      <td>0.008034</td>\n",
       "      <td>1.086130</td>\n",
       "    </tr>\n",
       "    <tr>\n",
       "      <th>2015-01-09</th>\n",
       "      <td>1.876946</td>\n",
       "      <td>2.226895</td>\n",
       "    </tr>\n",
       "    <tr>\n",
       "      <th>2015-01-10</th>\n",
       "      <td>1.855625</td>\n",
       "      <td>2.852383</td>\n",
       "    </tr>\n",
       "  </tbody>\n",
       "</table>\n",
       "</div>"
      ],
      "text/plain": [
       "              WCB.EH    OAA.CQ\n",
       "2015-01-01 -0.052580 -0.351618\n",
       "2015-01-02  1.056254 -1.476417\n",
       "2015-01-03  0.078017  1.129168\n",
       "2015-01-04  0.282141  0.908655\n",
       "2015-01-05  0.960537 -0.223996\n",
       "2015-01-06  1.420355  0.212851\n",
       "2015-01-07  2.266144  0.358502\n",
       "2015-01-08  0.008034  1.086130\n",
       "2015-01-09  1.876946  2.226895\n",
       "2015-01-10  1.855625  2.852383"
      ]
     },
     "execution_count": 10,
     "metadata": {},
     "output_type": "execute_result"
    }
   ],
   "source": [
    "cf.datagen.lines(2,10)  #2代表2组，10代表10天"
   ]
  },
  {
   "cell_type": "markdown",
   "metadata": {},
   "source": [
    "#### 散点图"
   ]
  },
  {
   "cell_type": "code",
   "execution_count": null,
   "metadata": {},
   "outputs": [],
   "source": [
    "df = pd.DataFrame(np.random.rand(50, 4), columns=['a', 'b', 'c', 'd'])\n",
    "df.iplot(kind='scatter',mode='markers',colors=['orange','teal','blue','yellow'],size=20,theme='solar')"
   ]
  },
  {
   "cell_type": "markdown",
   "metadata": {},
   "source": [
    "#### 气泡图"
   ]
  },
  {
   "cell_type": "code",
   "execution_count": null,
   "metadata": {},
   "outputs": [],
   "source": [
    "df.iplot(kind='bubble',x='a',y='b',size='c',theme='solar')"
   ]
  },
  {
   "cell_type": "markdown",
   "metadata": {},
   "source": [
    "#### subplots 子图"
   ]
  },
  {
   "cell_type": "code",
   "execution_count": null,
   "metadata": {},
   "outputs": [],
   "source": [
    "df=cf.datagen.lines(4)\n",
    "df.iplot(subplots=True,shape=(4,1),shared_xaxes=True,vertical_spacing=.02,fill=True,theme='ggplot')"
   ]
  },
  {
   "cell_type": "markdown",
   "metadata": {},
   "source": [
    "#### 箱形图"
   ]
  },
  {
   "cell_type": "code",
   "execution_count": null,
   "metadata": {},
   "outputs": [],
   "source": [
    "cf.datagen.box(20).iplot(kind='box',legend=False,theme='ggplot')"
   ]
  },
  {
   "cell_type": "markdown",
   "metadata": {},
   "source": [
    "#### 直方图"
   ]
  },
  {
   "cell_type": "code",
   "execution_count": null,
   "metadata": {},
   "outputs": [],
   "source": [
    "df.iloc[:,0:3].iplot(kind='histogram')"
   ]
  },
  {
   "cell_type": "markdown",
   "metadata": {},
   "source": [
    "#### 3D图"
   ]
  },
  {
   "cell_type": "code",
   "execution_count": null,
   "metadata": {},
   "outputs": [],
   "source": [
    "cf.datagen.scatter3d(5,4).iplot(kind='scatter3d',x='x',y='y',z='z',text='text',categories='categories')"
   ]
  },
  {
   "cell_type": "markdown",
   "metadata": {},
   "source": [
    "怎么样？是不是很方便，希望我的介绍能够起到抛砖引玉的作用，cufflinks库还有更丰富的绘图功能等着你去挖掘。"
   ]
  }
 ],
 "metadata": {
  "kernelspec": {
   "display_name": "Python 3",
   "language": "python",
   "name": "python3"
  },
  "language_info": {
   "codemirror_mode": {
    "name": "ipython",
    "version": 3
   },
   "file_extension": ".py",
   "mimetype": "text/x-python",
   "name": "python",
   "nbconvert_exporter": "python",
   "pygments_lexer": "ipython3",
   "version": "3.7.6"
  }
 },
 "nbformat": 4,
 "nbformat_minor": 4
}